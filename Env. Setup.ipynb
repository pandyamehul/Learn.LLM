{
 "cells": [
  {
   "cell_type": "markdown",
   "id": "bc9b29f6",
   "metadata": {},
   "source": [
    "### Environment Setup\n",
    "\n",
    "Followed below steps to set up the environment for the project:\n",
    "\n",
    "1. **Install Python**: Ensure Python 3.x is installed on your system.\n",
    "2. **Create a Virtual Environment**:\n",
    "\n",
    "    ```cmd\n",
    "    python -m venv llms\n",
    "    python -m pip install --upgrade pip\n",
    "    pip install -r requirements.txt\n",
    "    ```\n",
    "\n",
    "3. **Activate the Virtual Environment**:\n",
    "\n",
    "    ```cmd\n",
    "    cd llms\\Scripts\n",
    "    .\\activate\n",
    "    ```\n",
    "\n",
    "4. Run below command to **launch Jupyter Notebook**, after activating the virtual environment:\n",
    "   \n",
    "    ```cmd\n",
    "    jupyter lab\n",
    "    ```\n",
    "\n",
    "5. **Configure .env File**: Create a `.env` file in the project root directory and add the following environment variables:\n",
    "\n",
    "    ```plaintext\n",
    "    OPENAI_API_KEY=your_openai_api_key_from_openai.com\n",
    "    ```"
   ]
  }
 ],
 "metadata": {
  "language_info": {
   "name": "python"
  }
 },
 "nbformat": 4,
 "nbformat_minor": 5
}
