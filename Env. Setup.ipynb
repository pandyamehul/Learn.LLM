{
 "cells": [
  {
   "cell_type": "markdown",
   "id": "bc9b29f6",
   "metadata": {},
   "source": [
    "### Environment Setup\n",
    "\n",
    "Followed below steps to set up the environment for the project:\n",
    "\n",
    "1. **Install Python**: Ensure Python 3.x is installed on your system.\n",
    "2. **Create a Virtual Environment**:\n",
    "\n",
    "    ```cmd\n",
    "    python -m venv llms\n",
    "    python -m pip install --upgrade pip\n",
    "    pip install -r requirements.txt\n",
    "    ```\n",
    "\n",
    "3. **Activate the Virtual Environment**:\n",
    "\n",
    "    ```cmd\n",
    "    cd llms\\Scripts\n",
    "    .\\activate\n",
    "    ```\n",
    "\n",
    "4. Run below command to **launch Jupyter Notebook**, after activating the virtual environment:\n",
    "   \n",
    "    ```cmd\n",
    "    jupyter lab\n",
    "    ```\n",
    "\n",
    "5. **Configure .env File**: Create a `.env` file in the project root directory and add the following environment variables:\n",
    "\n",
    "    ```plaintext\n",
    "    OPENAI_API_KEY=your_openai_api_key_from_openai.com\n",
    "    ```\n",
    "\n",
    "6. Install Ollama model locally in docker environment: Ref. [Ollama Docker Image](https://hub.docker.com/r/ollama/ollama)\n",
    "\n",
    "    ```bash\n",
    "    docker run -p 11434:11434 ollama/ollama:latest\n",
    "\n",
    "    #After installation, run below command to pull the model\n",
    "    docker exec -it ollama ollama run llama3\n",
    "\n",
    "    ```\n",
    "    \n",
    "7. While running day 2 notebook, faced issue with ollama3.2 model, as it was deployed in the docker container and was giving error. So, to fix the issue below step was taken:\n",
    "\n",
    "    ```bash\n",
    "    docker exec -it ollama ollama pull llama3.2\n",
    "    docker exec -it db07d8cdd444 bash\n",
    "    [bash] ollama pull llama3.2\n",
    "    ```"
   ]
  }
 ],
 "metadata": {
  "language_info": {
   "name": "python"
  }
 },
 "nbformat": 4,
 "nbformat_minor": 5
}
