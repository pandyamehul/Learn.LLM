{
 "cells": [
  {
   "cell_type": "markdown",
   "id": "3c1c4078",
   "metadata": {},
   "source": [
    "### Week 1: Excercise\n",
    "- To demonstrate your familiarity with OpenAI API, and also Ollama\n",
    "- Build a tool that takes a technical question and responds with an explanation. \n",
    "- This is a tool that you will be able to use yourself during the course!"
   ]
  },
  {
   "cell_type": "code",
   "execution_count": 1,
   "id": "ffc39f04",
   "metadata": {},
   "outputs": [],
   "source": [
    "# Import required libraries\n",
    "from dotenv import load_dotenv\n",
    "from IPython.display import Markdown, display, update_display\n",
    "from openai import OpenAI\n",
    "import ollama"
   ]
  },
  {
   "cell_type": "code",
   "execution_count": 2,
   "id": "f2942ba1",
   "metadata": {},
   "outputs": [],
   "source": [
    "# Define constants for Model to be used\n",
    "MODEL_GPT = 'gpt-4o-mini'\n",
    "MODEL_LLAMA = 'llama3.2'"
   ]
  },
  {
   "cell_type": "code",
   "execution_count": 3,
   "id": "6dd34c91",
   "metadata": {},
   "outputs": [],
   "source": [
    "# set up environment\n",
    "load_dotenv()\n",
    "# Initialize OpenAI client\n",
    "openai = OpenAI()"
   ]
  },
  {
   "cell_type": "code",
   "execution_count": 4,
   "id": "297a4ee9",
   "metadata": {},
   "outputs": [],
   "source": [
    "# here is the question; type over this to ask something new\n",
    "question = \"\"\"\n",
    "Please explain what this code does and why:\n",
    "yield from {book.get(\"author\") for book in books if book.get(\"author\")}\n",
    "\"\"\""
   ]
  },
  {
   "cell_type": "code",
   "execution_count": null,
   "id": "646e8a80",
   "metadata": {},
   "outputs": [],
   "source": [
    "# ALeternative way to get user input\n",
    "question = input(\"Please enter your question:\")"
   ]
  },
  {
   "cell_type": "code",
   "execution_count": 5,
   "id": "2fe4c58f",
   "metadata": {},
   "outputs": [],
   "source": [
    "# define system and user prompts\n",
    "system_prompt = \"You are a helpful technical tutor who answers questions about python code, software engineering, data science and LLMs\"\n",
    "user_prompt = \"Please give a detailed explanation to the following question: \" + question"
   ]
  },
  {
   "cell_type": "code",
   "execution_count": 6,
   "id": "9c794ee5",
   "metadata": {},
   "outputs": [],
   "source": [
    "# construct api messages\n",
    "\n",
    "messages = [\n",
    "    {\"role\": \"system\", \"content\": system_prompt},\n",
    "    {\"role\": \"user\", \"content\": user_prompt}\n",
    "]"
   ]
  },
  {
   "cell_type": "markdown",
   "id": "06c1d874",
   "metadata": {},
   "source": [
    "### Example - Using Gpt-4o-mini"
   ]
  },
  {
   "cell_type": "code",
   "execution_count": 7,
   "id": "501f21a7",
   "metadata": {},
   "outputs": [
    {
     "data": {
      "text/markdown": [
       "Certainly! Let's break down the line of code you provided:\n",
       "\n",
       "python\n",
       "yield from {book.get(\"author\") for book in books if book.get(\"author\")}\n",
       "\n",
       "\n",
       "### Understanding the Components\n",
       "\n",
       "1. **Set Comprehension**:\n",
       "   - `{... for book in books if book.get(\"author\")}`: This is a set comprehension, which is used to create a set. \n",
       "   - It iterates over a collection called `books`, which is expected to be a list or another iterable containing dictionaries.\n",
       "   - For each `book` in `books`, it checks the condition `if book.get(\"author\")`. This means it tries to get the value associated with the key `\"author\"` from the `book` dictionary. If this value is found (and is considered \"truthy\" - not `None`, `False`, `0`, etc.), it will include the author's name in the set. If the author does not exist, it will not include anything for that book.\n",
       "\n",
       "2. **Set Construction**:\n",
       "   - The result of the set comprehension is a set of authors for books that have an author listed. Using a set automatically handles duplicates, so if multiple books have the same author, that author will only appear once in the resulting set.\n",
       "\n",
       "3. **Yielding from a Set**:\n",
       "   - `yield from ...`: This is a Python generator expression that allows the function to yield each item from the given iterable (in this case, the set of authors). This means that the code will yield each unique author's name one by one, as the consumer of this generator iterates over it.\n",
       "\n",
       "### Putting It All Together\n",
       "\n",
       "In summary, this line of code does the following:\n",
       "\n",
       "- It creates a **set** of unique authors from a list of books (which are presumably dictionaries) by extracting the `\"author\"` key from each book.\n",
       "- It filters out any books that do not have an author (i.e., where `book.get(\"author\")` returns a falsy value).\n",
       "- Finally, it uses `yield from` to yield each unique author one at a time through a generator. This can be useful in an asynchronous context or when processing a large dataset where you want to avoid loading everything into memory at once.\n",
       "\n",
       "### Why Use This Pattern?\n",
       "\n",
       "This code pattern is efficient and concise for several reasons:\n",
       "\n",
       "- **Avoids Duplicates**: By using a set, it automatically filters out any duplicated authors.\n",
       "- **Lazy Evaluation**: With `yield from`, the authors are generated on-the-fly as needed rather than all at once, which is memory efficient for large datasets.\n",
       "- **Readable**: The use of set comprehension simplifies code readability by clearly expressing the intention to create a set based on a condition.\n",
       "\n",
       "### Example Scenario\n",
       "\n",
       "Suppose you have the following list of books:\n",
       "\n",
       "python\n",
       "books = [\n",
       "    {\"title\": \"Python Programming\", \"author\": \"John Smith\"},\n",
       "    {\"title\": \"Learning Python\", \"author\": \"Jane Doe\"},\n",
       "    {\"title\": \"Advanced Python\", \"author\": None},\n",
       "    {\"title\": \"Python for Data Science\", \"author\": \"John Smith\"},\n",
       "    {\"title\": \"Data Analysis\", \"author\": \"Jane Doe\"},\n",
       "]\n",
       "\n",
       "\n",
       "Running the code would yield the following unique authors:\n",
       "\n",
       "python\n",
       "# Yields: \"John Smith\", \"Jane Doe\"\n",
       "\n",
       "\n",
       "### Conclusion\n",
       "\n",
       "This code effectively extracts unique authors from a collection of books while handling cases where authors may be missing, using set comprehension for clarity and efficiency, and yielding results in a memory-efficient manner with a generator."
      ],
      "text/plain": [
       "<IPython.core.display.Markdown object>"
      ]
     },
     "metadata": {},
     "output_type": "display_data"
    }
   ],
   "source": [
    "# Get gpt-4o-mini to answer, with streaming\n",
    "\n",
    "stream = openai.chat.completions.create(model=MODEL_GPT, messages=messages,stream=True)\n",
    "    \n",
    "response = \"\"\n",
    "display_handle = display(Markdown(\"\"), display_id=True)\n",
    "for chunk in stream:\n",
    "    response += chunk.choices[0].delta.content or ''\n",
    "    response = response.replace(\"```\",\"\").replace(\"markdown\", \"\")\n",
    "    update_display(Markdown(response), display_id=display_handle.display_id)"
   ]
  },
  {
   "cell_type": "markdown",
   "id": "324af3a1",
   "metadata": {},
   "source": [
    "### Example - Using Llama3.2 (local docker env.)"
   ]
  },
  {
   "cell_type": "code",
   "execution_count": 8,
   "id": "944cdc25",
   "metadata": {},
   "outputs": [
    {
     "data": {
      "text/markdown": [
       "**Deconstruction and Generator Expression**\n",
       "\n",
       "The given code is written in Python 3.5 and later versions, which supports a feature called \"deconstruction\" and \"generator expressions.\" Let's break it down:\n",
       "\n",
       "```python\n",
       "yield from {book.get(\"author\") for book in books if book.get(\"author\")}\n",
       "```\n",
       "\n",
       "Here's what happens step by step:\n",
       "\n",
       "1. **List Comprehension**: `{book.get(\"author\") for book in books if book.get(\"author\")}` is a generator expression, which generates a sequence of values on-the-fly.\n",
       "\n",
       "   * The `for` loop iterates over the `books` collection ( likely a list or dictionary of dictionaries).\n",
       "   * For each iteration, it checks if the current item (`book`) has an attribute named `\"author\"`. If it does, it extracts the value associated with this key.\n",
       "   * The resulting values are then collected into a set.\n",
       "\n",
       "2. **`yield from`**: This is a special syntax used in Python 3.3 and later versions to delegate the iteration over a subiterator (in this case, the generator expression) back to the caller.\n",
       "\n",
       "   When `yield from` encounters an iterator that yields values, it simply \"yields\" those same values in the current context, effectively passing on the responsibility of generating the next value.\n",
       "\n",
       "   In our example, `{book.get(\"author\") for book in books if book.get(\"author\")}` is a generator expression. The `yield from` statement takes this generator expression and uses its values without changing the flow of execution.\n",
       "\n",
       "**Effect**\n",
       "\n",
       "In summary, the given code:\n",
       "\n",
       "* Iterates over the `books` collection.\n",
       "* For each book that has an `\"author\"` attribute, it extracts and yields the associated value in a set.\n",
       "* The `yield from` statement takes this generator expression and uses its values without changing the flow of execution.\n",
       "\n",
       "This is equivalent to writing:\n",
       "```python\n",
       "result = set()\n",
       "for book in books:\n",
       "    if book.get(\"author\"):\n",
       "        result.add(book.get(\"author\"))\n",
       "yield from result\n",
       "```\n",
       "But with a more concise and efficient syntax!\n",
       "\n",
       "**Example Use Case**\n",
       "\n",
       "Here's an example where this code might be used:\n",
       "\n",
       "Suppose you have a list of book dictionaries, each containing author information. You want to extract all the unique authors from these books. The given code can be used in a context like this:\n",
       "```python\n",
       "books = [\n",
       "    {\"title\": \"Book 1\", \"author\": \"Author A\"},\n",
       "    {\"title\": \"Book 2\", \"author\": \"Author B\"},\n",
       "    {\"title\": \"Book 3\", \"author\": None},  # No author for Book 3\n",
       "]\n",
       "\n",
       "authors = {book.get(\"author\") for book in books if book.get(\"author\")}\n",
       "print(authors)  # Output: {'Author A', 'Author B'}\n",
       "```\n",
       "In this case, the code extracts all unique authors from the `books` list and stores them in a set named `authors`."
      ],
      "text/plain": [
       "<IPython.core.display.Markdown object>"
      ]
     },
     "metadata": {},
     "output_type": "display_data"
    }
   ],
   "source": [
    "# Get Llama 3.2 to answer\n",
    "response = ollama.chat(model=MODEL_LLAMA, messages=messages)\n",
    "reply = response['message']['content']\n",
    "display(Markdown(reply))"
   ]
  }
 ],
 "metadata": {
  "kernelspec": {
   "display_name": "llm_env",
   "language": "python",
   "name": "python3"
  },
  "language_info": {
   "codemirror_mode": {
    "name": "ipython",
    "version": 3
   },
   "file_extension": ".py",
   "mimetype": "text/x-python",
   "name": "python",
   "nbconvert_exporter": "python",
   "pygments_lexer": "ipython3",
   "version": "3.12.2"
  }
 },
 "nbformat": 4,
 "nbformat_minor": 5
}
