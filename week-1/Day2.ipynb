{
 "cells": [
  {
   "cell_type": "markdown",
   "id": "5b500897",
   "metadata": {},
   "source": [
    "**Excercise**:\n",
    "Upgrade the day 1 project to summarize a webpage to use an Open Source model running locally via Ollama rather than OpenAI\n",
    "\n",
    "**Benefits**:\n",
    "\n",
    "- No API charges - open-source\n",
    "- Data doesn't leave your box\n",
    "\n",
    "**Disadvantages**:\n",
    "\n",
    "- Significantly less power than Frontier Model"
   ]
  },
  {
   "cell_type": "markdown",
   "id": "9463d878",
   "metadata": {},
   "source": [
    "\n",
    "### Steps below to run code with open source model, using Ollama locally"
   ]
  },
  {
   "cell_type": "code",
   "execution_count": 43,
   "id": "ec393397",
   "metadata": {},
   "outputs": [],
   "source": [
    "# imports required libraries\n",
    "import requests\n",
    "from bs4 import BeautifulSoup\n",
    "from IPython.display import Markdown, display"
   ]
  },
  {
   "cell_type": "code",
   "execution_count": 44,
   "id": "df8c7b57",
   "metadata": {},
   "outputs": [],
   "source": [
    "# Constants\n",
    "\n",
    "OLLAMA_API = \"http://localhost:11434/api/chat\"\n",
    "HEADERS = {\"Content-Type\": \"application/json\"}\n",
    "MODEL = \"llama3.2\""
   ]
  },
  {
   "cell_type": "code",
   "execution_count": null,
   "id": "480938ca",
   "metadata": {},
   "outputs": [],
   "source": [
    "# Create a messages list using the same format that we used for OpenAI\n",
    "\n",
    "messages = [\n",
    "    {\n",
    "        \"role\": \"user\", \n",
    "        \"content\": \"Describe some of the business applications of Generative AI\"\n",
    "    }\n",
    "]"
   ]
  },
  {
   "cell_type": "code",
   "execution_count": 46,
   "id": "1c62ea3a",
   "metadata": {},
   "outputs": [],
   "source": [
    "payload = {\n",
    "        \"model\": MODEL,\n",
    "        \"messages\": messages,\n",
    "        \"stream\": False\n",
    "    }"
   ]
  },
  {
   "cell_type": "code",
   "execution_count": 48,
   "id": "fd162c78",
   "metadata": {},
   "outputs": [
    {
     "name": "stdout",
     "output_type": "stream",
     "text": [
      "Status Code: 200\n",
      "Response JSON: {'model': 'llama3.2', 'created_at': '2025-07-24T20:51:35.77903756Z', 'message': {'role': 'assistant', 'content': \"Generative AI has numerous business applications across various industries. Here are some examples:\\n\\n1. **Content Creation**: Generative AI can be used to generate high-quality content such as articles, blog posts, product descriptions, and social media posts. This can help businesses save time and resources on content creation.\\n2. **Marketing Automation**: Generative AI can be used to create personalized marketing campaigns by generating tailored messages, emails, and ads based on customer data and behavior.\\n3. **Product Design**: Generative AI can be used to design new products by generating 3D models, product designs, and packaging layouts. This can help businesses speed up the product development process and reduce costs.\\n4. **Customer Service**: Generative AI can be used to generate chatbot responses, email responses, and phone scripts that are personalized to individual customers' needs and preferences.\\n5. **Data Analysis**: Generative AI can be used to analyze large datasets by generating insights, identifying patterns, and predicting trends. This can help businesses make data-driven decisions and gain a competitive advantage.\\n6. **Digital Transformation**: Generative AI can be used to transform digital products such as websites, apps, and chatbots into more engaging and user-friendly experiences.\\n7. **Creative Services**: Generative AI can be used in creative services such as graphic design, music composition, and video editing. This can help businesses offer high-quality creative services at a lower cost.\\n8. **Supply Chain Optimization**: Generative AI can be used to optimize supply chains by generating optimal logistics routes, predicting demand, and identifying potential bottlenecks.\\n9. **Financial Analysis**: Generative AI can be used in financial analysis by generating financial forecasts, analyzing market trends, and identifying potential investment opportunities.\\n10. **Sales Enablement**: Generative AI can be used to generate sales enablement materials such as sales scripts, pitch decks, and customer presentations that are tailored to individual customers' needs and preferences.\\n\\nSome of the key benefits of using Generative AI in business include:\\n\\n* Increased productivity\\n* Improved efficiency\\n* Enhanced decision-making capabilities\\n* Better customer engagement\\n* Cost savings\\n* New revenue streams\\n\\nHowever, it's worth noting that Generative AI also raises some concerns such as job displacement, bias, and data security. Businesses need to carefully consider the benefits and risks of using Generative AI in their operations.\"}, 'done_reason': 'stop', 'done': True, 'total_duration': 51083911363, 'load_duration': 5228024614, 'prompt_eval_count': 35, 'prompt_eval_duration': 1471573905, 'eval_count': 477, 'eval_duration': 44381133518}\n",
      "Output :  Generative AI has numerous business applications across various industries. Here are some examples:\n",
      "\n",
      "1. **Content Creation**: Generative AI can be used to generate high-quality content such as articles, blog posts, product descriptions, and social media posts. This can help businesses save time and resources on content creation.\n",
      "2. **Marketing Automation**: Generative AI can be used to create personalized marketing campaigns by generating tailored messages, emails, and ads based on customer data and behavior.\n",
      "3. **Product Design**: Generative AI can be used to design new products by generating 3D models, product designs, and packaging layouts. This can help businesses speed up the product development process and reduce costs.\n",
      "4. **Customer Service**: Generative AI can be used to generate chatbot responses, email responses, and phone scripts that are personalized to individual customers' needs and preferences.\n",
      "5. **Data Analysis**: Generative AI can be used to analyze large datasets by generating insights, identifying patterns, and predicting trends. This can help businesses make data-driven decisions and gain a competitive advantage.\n",
      "6. **Digital Transformation**: Generative AI can be used to transform digital products such as websites, apps, and chatbots into more engaging and user-friendly experiences.\n",
      "7. **Creative Services**: Generative AI can be used in creative services such as graphic design, music composition, and video editing. This can help businesses offer high-quality creative services at a lower cost.\n",
      "8. **Supply Chain Optimization**: Generative AI can be used to optimize supply chains by generating optimal logistics routes, predicting demand, and identifying potential bottlenecks.\n",
      "9. **Financial Analysis**: Generative AI can be used in financial analysis by generating financial forecasts, analyzing market trends, and identifying potential investment opportunities.\n",
      "10. **Sales Enablement**: Generative AI can be used to generate sales enablement materials such as sales scripts, pitch decks, and customer presentations that are tailored to individual customers' needs and preferences.\n",
      "\n",
      "Some of the key benefits of using Generative AI in business include:\n",
      "\n",
      "* Increased productivity\n",
      "* Improved efficiency\n",
      "* Enhanced decision-making capabilities\n",
      "* Better customer engagement\n",
      "* Cost savings\n",
      "* New revenue streams\n",
      "\n",
      "However, it's worth noting that Generative AI also raises some concerns such as job displacement, bias, and data security. Businesses need to carefully consider the benefits and risks of using Generative AI in their operations.\n"
     ]
    }
   ],
   "source": [
    "response = requests.post(OLLAMA_API, json=payload, headers=HEADERS)\n",
    "\n",
    "# Print status code and full JSON response\n",
    "print(\"Status Code:\", response.status_code)\n",
    "print(\"Response JSON:\", response.json())\n",
    "\n",
    "print(\"Output : \", response.json()['message']['content'])"
   ]
  },
  {
   "cell_type": "markdown",
   "id": "2ac51f30",
   "metadata": {},
   "source": [
    "### Alternate Approach for above steps : Introducing ollama package**\n",
    "\n",
    "Now we'll do the same thing, but using the elegant ollama python package instead of a direct HTTP call.\n",
    "\n",
    "Under the hood, it's making the same call as above to the ollama server running at localhost:11434\n",
    "\n",
    "using python requests library, runnning same above code."
   ]
  },
  {
   "cell_type": "code",
   "execution_count": 49,
   "id": "6308a543",
   "metadata": {},
   "outputs": [
    {
     "name": "stdout",
     "output_type": "stream",
     "text": [
      "Generative AI has numerous business applications across various industries, including:\n",
      "\n",
      "1. **Content Generation**: AI-powered tools can generate high-quality content such as blog posts, social media posts, product descriptions, and even entire articles.\n",
      "2. **Marketing Automation**: Generative AI can help automate marketing tasks, such as email campaigns, lead generation, and personalization, by creating personalized content and offers for customers.\n",
      "3. **Product Design and Development**: AI-powered tools can generate 2D and 3D designs for products, reducing the need for manual design and prototyping.\n",
      "4. **Chatbots and Virtual Assistants**: Generative AI can power chatbots and virtual assistants that provide customer support, answer questions, and help with simple tasks.\n",
      "5. **Personalized Customer Experience**: AI-powered tools can analyze customer behavior and preferences to create personalized experiences, such as product recommendations and offers.\n",
      "6. **Image and Video Generation**: Generative AI can generate high-quality images and videos for use in marketing campaigns, social media, and other applications.\n",
      "7. **Data Analysis and Insights**: AI-powered tools can analyze large datasets and provide insights on customer behavior, market trends, and business performance.\n",
      "8. **Creative Writing and Storytelling**: Generative AI can help writers with tasks such as idea generation, research, and even writing entire articles or stories.\n",
      "9. **Music and Audio Generation**: AI-powered tools can generate music, sound effects, and other audio content for use in film, TV, and advertising.\n",
      "10. **Predictive Maintenance and Quality Control**: Generative AI can analyze sensor data to predict equipment failure and identify quality control issues in manufacturing processes.\n",
      "\n",
      "Some specific business applications of Generative AI include:\n",
      "\n",
      "* **E-commerce**: AI-powered tools can generate product descriptions, images, and reviews, as well as recommend products based on customer behavior.\n",
      "* **Finance**: AI-powered chatbots can help with customer support, risk assessment, and portfolio management.\n",
      "* **Healthcare**: AI-powered tools can analyze medical data to identify trends, predict patient outcomes, and suggest personalized treatment plans.\n",
      "* **Education**: AI-powered tools can generate customized learning materials, such as lesson plans, assignments, and assessments.\n",
      "\n",
      "These are just a few examples of the many business applications of Generative AI. As the technology continues to evolve, we can expect to see even more innovative uses across various industries.\n"
     ]
    }
   ],
   "source": [
    "import ollama\n",
    "\n",
    "response = ollama.chat(model=MODEL, messages=messages)\n",
    "print(response['message']['content'])"
   ]
  }
 ],
 "metadata": {
  "kernelspec": {
   "display_name": "Python 3 (ipykernel)",
   "language": "python",
   "name": "python3"
  },
  "language_info": {
   "codemirror_mode": {
    "name": "ipython",
    "version": 3
   },
   "file_extension": ".py",
   "mimetype": "text/x-python",
   "name": "python",
   "nbconvert_exporter": "python",
   "pygments_lexer": "ipython3",
   "version": "3.12.2"
  }
 },
 "nbformat": 4,
 "nbformat_minor": 5
}
