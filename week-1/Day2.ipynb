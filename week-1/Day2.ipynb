{
 "cells": [
  {
   "cell_type": "markdown",
   "id": "5b500897",
   "metadata": {},
   "source": [
    "**Excercise**:\n",
    "Upgrade the day 1 project to summarize a webpage to use an Open Source model running locally via Ollama rather than OpenAI\n",
    "\n",
    "**Benefits**:\n",
    "\n",
    "- No API charges - open-source\n",
    "- Data doesn't leave your box\n",
    "\n",
    "**Disadvantages**:\n",
    "\n",
    "- Significantly less power than Frontier Model"
   ]
  },
  {
   "cell_type": "markdown",
   "id": "9463d878",
   "metadata": {},
   "source": [
    "\n",
    "### Steps below to run code with open source model, using Ollama locally"
   ]
  },
  {
   "cell_type": "code",
   "execution_count": 7,
   "id": "ec393397",
   "metadata": {},
   "outputs": [],
   "source": [
    "# imports required libraries\n",
    "import requests\n",
    "from IPython.display import Markdown, display"
   ]
  },
  {
   "cell_type": "code",
   "execution_count": 2,
   "id": "df8c7b57",
   "metadata": {},
   "outputs": [],
   "source": [
    "# Constants\n",
    "\n",
    "OLLAMA_API = \"http://localhost:11434/api/chat\"\n",
    "HEADERS = {\"Content-Type\": \"application/json\"}\n",
    "MODEL = \"llama3.2\""
   ]
  },
  {
   "cell_type": "code",
   "execution_count": 3,
   "id": "480938ca",
   "metadata": {},
   "outputs": [],
   "source": [
    "# Create a messages list using the same format that we used for OpenAI\n",
    "\n",
    "messages = [\n",
    "    {\n",
    "        \"role\": \"user\", \n",
    "        \"content\": \"Describe some of the business applications of Generative AI\"\n",
    "    }\n",
    "]"
   ]
  },
  {
   "cell_type": "code",
   "execution_count": 4,
   "id": "1c62ea3a",
   "metadata": {},
   "outputs": [],
   "source": [
    "payload = {\n",
    "        \"model\": MODEL,\n",
    "        \"messages\": messages,\n",
    "        \"stream\": False\n",
    "    }"
   ]
  },
  {
   "cell_type": "code",
   "execution_count": 6,
   "id": "fd162c78",
   "metadata": {},
   "outputs": [
    {
     "name": "stdout",
     "output_type": "stream",
     "text": [
      "Status Code: 200\n",
      "Response JSON: {'model': 'llama3.2', 'created_at': '2025-07-31T09:12:06.819826899Z', 'message': {'role': 'assistant', 'content': \"Generative AI has numerous business applications across various industries, including:\\n\\n1. **Content Generation**: Automate content creation for blogs, social media, and marketing materials using text-to-image models like DALL-E or Stable Diffusion.\\n2. **Product Design**: Use generative AI to design new product concepts, such as 3D models, prototypes, and even entire product lines.\\n3. **Image Editing**: Leverage AI-powered image editing tools to automate tasks like photo retouching, object removal, and composition.\\n4. **Music Composition**: Generate music tracks for advertising, film scores, or even entire albums using AI-powered music composition tools.\\n5. **Chatbots and Virtual Assistants**: Create highly personalized and responsive chatbots and virtual assistants using generative AI models like conversational AI.\\n6. **Data Analysis and Visualization**: Automate data analysis and visualization tasks using generative AI models that can identify patterns, trends, and insights in large datasets.\\n7. **Marketing Automation**: Use generative AI to personalize marketing campaigns, create targeted ads, and automate lead generation.\\n8. **Customer Service**: Generate personalized customer service responses, FAQs, and even entire chatbot scripts using generative AI models.\\n9. **Virtual Reality (VR) and Augmented Reality (AR)**: Create immersive experiences for entertainment, education, or training using generative AI-powered VR/AR tools.\\n10. **Supply Chain Optimization**: Use generative AI to optimize supply chain operations, predict demand, and identify bottlenecks in logistics.\\n\\nSome specific examples of business applications of Generative AI include:\\n\\n* **Amazon's AI-powered product recommendation engine**, which uses generative AI to suggest products based on user behavior and preferences.\\n* **Google's AI-powered image search**, which uses generative AI to generate relevant images for search queries.\\n* **H&M's AI-powered fashion design tool**, which uses generative AI to design new clothing lines and predict consumer trends.\\n\\nThese are just a few examples of the many business applications of Generative AI. As the technology continues to evolve, we can expect to see even more innovative uses across various industries.\"}, 'done_reason': 'stop', 'done': True, 'total_duration': 43624606363, 'load_duration': 59907180, 'prompt_eval_count': 35, 'prompt_eval_duration': 145269296, 'eval_count': 430, 'eval_duration': 43418309487}\n",
      "Output :  Generative AI has numerous business applications across various industries, including:\n",
      "\n",
      "1. **Content Generation**: Automate content creation for blogs, social media, and marketing materials using text-to-image models like DALL-E or Stable Diffusion.\n",
      "2. **Product Design**: Use generative AI to design new product concepts, such as 3D models, prototypes, and even entire product lines.\n",
      "3. **Image Editing**: Leverage AI-powered image editing tools to automate tasks like photo retouching, object removal, and composition.\n",
      "4. **Music Composition**: Generate music tracks for advertising, film scores, or even entire albums using AI-powered music composition tools.\n",
      "5. **Chatbots and Virtual Assistants**: Create highly personalized and responsive chatbots and virtual assistants using generative AI models like conversational AI.\n",
      "6. **Data Analysis and Visualization**: Automate data analysis and visualization tasks using generative AI models that can identify patterns, trends, and insights in large datasets.\n",
      "7. **Marketing Automation**: Use generative AI to personalize marketing campaigns, create targeted ads, and automate lead generation.\n",
      "8. **Customer Service**: Generate personalized customer service responses, FAQs, and even entire chatbot scripts using generative AI models.\n",
      "9. **Virtual Reality (VR) and Augmented Reality (AR)**: Create immersive experiences for entertainment, education, or training using generative AI-powered VR/AR tools.\n",
      "10. **Supply Chain Optimization**: Use generative AI to optimize supply chain operations, predict demand, and identify bottlenecks in logistics.\n",
      "\n",
      "Some specific examples of business applications of Generative AI include:\n",
      "\n",
      "* **Amazon's AI-powered product recommendation engine**, which uses generative AI to suggest products based on user behavior and preferences.\n",
      "* **Google's AI-powered image search**, which uses generative AI to generate relevant images for search queries.\n",
      "* **H&M's AI-powered fashion design tool**, which uses generative AI to design new clothing lines and predict consumer trends.\n",
      "\n",
      "These are just a few examples of the many business applications of Generative AI. As the technology continues to evolve, we can expect to see even more innovative uses across various industries.\n"
     ]
    }
   ],
   "source": [
    "response = requests.post(OLLAMA_API, json=payload, headers=HEADERS)\n",
    "\n",
    "# Print status code and full JSON response\n",
    "print(\"Status Code:\", response.status_code)\n",
    "print(\"Response JSON:\", response.json())\n",
    "result=response.json()['message']['content']\n",
    "print(\"Output : \", result)"
   ]
  },
  {
   "cell_type": "code",
   "execution_count": 8,
   "id": "4f91108a",
   "metadata": {},
   "outputs": [
    {
     "data": {
      "text/markdown": [
       "Generative AI has numerous business applications across various industries, including:\n",
       "\n",
       "1. **Content Generation**: Automate content creation for blogs, social media, and marketing materials using text-to-image models like DALL-E or Stable Diffusion.\n",
       "2. **Product Design**: Use generative AI to design new product concepts, such as 3D models, prototypes, and even entire product lines.\n",
       "3. **Image Editing**: Leverage AI-powered image editing tools to automate tasks like photo retouching, object removal, and composition.\n",
       "4. **Music Composition**: Generate music tracks for advertising, film scores, or even entire albums using AI-powered music composition tools.\n",
       "5. **Chatbots and Virtual Assistants**: Create highly personalized and responsive chatbots and virtual assistants using generative AI models like conversational AI.\n",
       "6. **Data Analysis and Visualization**: Automate data analysis and visualization tasks using generative AI models that can identify patterns, trends, and insights in large datasets.\n",
       "7. **Marketing Automation**: Use generative AI to personalize marketing campaigns, create targeted ads, and automate lead generation.\n",
       "8. **Customer Service**: Generate personalized customer service responses, FAQs, and even entire chatbot scripts using generative AI models.\n",
       "9. **Virtual Reality (VR) and Augmented Reality (AR)**: Create immersive experiences for entertainment, education, or training using generative AI-powered VR/AR tools.\n",
       "10. **Supply Chain Optimization**: Use generative AI to optimize supply chain operations, predict demand, and identify bottlenecks in logistics.\n",
       "\n",
       "Some specific examples of business applications of Generative AI include:\n",
       "\n",
       "* **Amazon's AI-powered product recommendation engine**, which uses generative AI to suggest products based on user behavior and preferences.\n",
       "* **Google's AI-powered image search**, which uses generative AI to generate relevant images for search queries.\n",
       "* **H&M's AI-powered fashion design tool**, which uses generative AI to design new clothing lines and predict consumer trends.\n",
       "\n",
       "These are just a few examples of the many business applications of Generative AI. As the technology continues to evolve, we can expect to see even more innovative uses across various industries."
      ],
      "text/plain": [
       "<IPython.core.display.Markdown object>"
      ]
     },
     "metadata": {},
     "output_type": "display_data"
    }
   ],
   "source": [
    "display(Markdown(result))"
   ]
  },
  {
   "cell_type": "markdown",
   "id": "2ac51f30",
   "metadata": {},
   "source": [
    "### Alternate Approach for above steps : Introducing ollama package**\n",
    "\n",
    "Now we'll do the same thing, but using the elegant ollama python package instead of a direct HTTP call.\n",
    "\n",
    "Under the hood, it's making the same call as above to the ollama server running at localhost:11434\n",
    "\n",
    "using python requests library, runnning same above code."
   ]
  },
  {
   "cell_type": "code",
   "execution_count": 9,
   "id": "6308a543",
   "metadata": {},
   "outputs": [
    {
     "name": "stdout",
     "output_type": "stream",
     "text": [
      "Output :  Generative AI has numerous business applications across various industries. Here are some examples:\n",
      "\n",
      "1. **Content Generation**: Generative AI can generate high-quality content such as articles, social media posts, product descriptions, and more. This can help businesses save time and resources, while also improving the quality of their content.\n",
      "2. **Chatbots and Virtual Assistants**: Generative AI can be used to create advanced chatbots that can understand natural language and respond accordingly. This can help businesses provide 24/7 customer support, improve customer experience, and reduce costs.\n",
      "3. **Product Design and Engineering**: Generative AI can be used to design and engineer new products quickly and efficiently. For example, it can generate 3D models, schematics, and prototypes, reducing the time and cost associated with traditional product development methods.\n",
      "4. **Marketing Automation**: Generative AI can help automate marketing processes such as lead generation, email marketing, and social media management. It can also analyze customer behavior and provide insights to improve marketing campaigns.\n",
      "5. **Personalization**: Generative AI can be used to create personalized recommendations for customers based on their preferences, behavior, and demographic data. This can help businesses increase sales and improve customer loyalty.\n",
      "6. **Data Analysis and Visualization**: Generative AI can be used to analyze large datasets and generate insights that can inform business decisions. It can also visualize complex data in a way that is easy to understand, making it easier for non-technical stakeholders to make informed decisions.\n",
      "7. **Predictive Maintenance**: Generative AI can be used to predict equipment failures and perform maintenance tasks before they occur. This can help businesses reduce downtime, improve uptime, and extend the lifespan of their assets.\n",
      "8. **Supply Chain Optimization**: Generative AI can be used to optimize supply chain operations such as inventory management, logistics, and transportation. It can also analyze data from various sources to identify trends and patterns that can inform business decisions.\n",
      "9. **Financial Modeling and Analysis**: Generative AI can be used to create financial models and perform complex analysis tasks such as forecasting and scenario planning. This can help businesses make informed investment decisions and improve their overall financial performance.\n",
      "10. **Creative Industries**: Generative AI can be used in creative industries such as music, art, and design to generate new ideas, automate repetitive tasks, and enhance the creative process.\n",
      "\n",
      "Some specific business applications of generative AI include:\n",
      "\n",
      "* **Image generation**: Generating product images, creating social media graphics, and developing advertising campaigns.\n",
      "* **Text analysis**: Analyzing customer reviews, sentiment analysis, and identifying trends in customer feedback.\n",
      "* **Recommendation systems**: Recommending products or services to customers based on their preferences and behavior.\n",
      "* **Predictive modeling**: Predicting customer churn, predicting sales, and forecasting revenue.\n",
      "* **Business process automation**: Automating business processes such as order processing, invoicing, and accounting.\n",
      "\n",
      "These are just a few examples of the many business applications of generative AI. As the technology continues to evolve, we can expect to see even more innovative uses of generative AI in various industries.\n"
     ]
    }
   ],
   "source": [
    "import ollama\n",
    "\n",
    "response = ollama.chat(model=MODEL, messages=messages)\n",
    "result2 = response['message']['content']\n",
    "print(\"Output : \", result2)"
   ]
  },
  {
   "cell_type": "code",
   "execution_count": 10,
   "id": "03f4e324",
   "metadata": {},
   "outputs": [
    {
     "data": {
      "text/markdown": [
       "Generative AI has numerous business applications across various industries. Here are some examples:\n",
       "\n",
       "1. **Content Generation**: Generative AI can generate high-quality content such as articles, social media posts, product descriptions, and more. This can help businesses save time and resources, while also improving the quality of their content.\n",
       "2. **Chatbots and Virtual Assistants**: Generative AI can be used to create advanced chatbots that can understand natural language and respond accordingly. This can help businesses provide 24/7 customer support, improve customer experience, and reduce costs.\n",
       "3. **Product Design and Engineering**: Generative AI can be used to design and engineer new products quickly and efficiently. For example, it can generate 3D models, schematics, and prototypes, reducing the time and cost associated with traditional product development methods.\n",
       "4. **Marketing Automation**: Generative AI can help automate marketing processes such as lead generation, email marketing, and social media management. It can also analyze customer behavior and provide insights to improve marketing campaigns.\n",
       "5. **Personalization**: Generative AI can be used to create personalized recommendations for customers based on their preferences, behavior, and demographic data. This can help businesses increase sales and improve customer loyalty.\n",
       "6. **Data Analysis and Visualization**: Generative AI can be used to analyze large datasets and generate insights that can inform business decisions. It can also visualize complex data in a way that is easy to understand, making it easier for non-technical stakeholders to make informed decisions.\n",
       "7. **Predictive Maintenance**: Generative AI can be used to predict equipment failures and perform maintenance tasks before they occur. This can help businesses reduce downtime, improve uptime, and extend the lifespan of their assets.\n",
       "8. **Supply Chain Optimization**: Generative AI can be used to optimize supply chain operations such as inventory management, logistics, and transportation. It can also analyze data from various sources to identify trends and patterns that can inform business decisions.\n",
       "9. **Financial Modeling and Analysis**: Generative AI can be used to create financial models and perform complex analysis tasks such as forecasting and scenario planning. This can help businesses make informed investment decisions and improve their overall financial performance.\n",
       "10. **Creative Industries**: Generative AI can be used in creative industries such as music, art, and design to generate new ideas, automate repetitive tasks, and enhance the creative process.\n",
       "\n",
       "Some specific business applications of generative AI include:\n",
       "\n",
       "* **Image generation**: Generating product images, creating social media graphics, and developing advertising campaigns.\n",
       "* **Text analysis**: Analyzing customer reviews, sentiment analysis, and identifying trends in customer feedback.\n",
       "* **Recommendation systems**: Recommending products or services to customers based on their preferences and behavior.\n",
       "* **Predictive modeling**: Predicting customer churn, predicting sales, and forecasting revenue.\n",
       "* **Business process automation**: Automating business processes such as order processing, invoicing, and accounting.\n",
       "\n",
       "These are just a few examples of the many business applications of generative AI. As the technology continues to evolve, we can expect to see even more innovative uses of generative AI in various industries."
      ],
      "text/plain": [
       "<IPython.core.display.Markdown object>"
      ]
     },
     "metadata": {},
     "output_type": "display_data"
    }
   ],
   "source": [
    "display(Markdown(result2))"
   ]
  },
  {
   "cell_type": "markdown",
   "id": "27da3f92",
   "metadata": {},
   "source": [
    "### Alternative approach - using OpenAI python library to connect to Ollama"
   ]
  },
  {
   "cell_type": "code",
   "execution_count": 11,
   "id": "0393e67b",
   "metadata": {},
   "outputs": [
    {
     "name": "stdout",
     "output_type": "stream",
     "text": [
      "Output via OpenAI client:  Generative AI has numerous business applications across various industries. Here are some examples:\n",
      "\n",
      "1. **Content Generation**: Generative AI can be used to generate high-quality content such as articles, social media posts, product descriptions, and more. This can help automate content creation and reduce the workload for human writers.\n",
      "2. **Visual Design**: Generative AI can create visually stunning designs for logos, branding, graphics, and more. This can help businesses enhance their visual identity without requiring extensive design expertise.\n",
      "3. **Marketing Materials**: Generative AI can generate marketing materials such as product brochures, sales pitches, and advertising campaigns. This can help businesses save time and effort in creating high-quality marketing content.\n",
      "4. **Product Design**: Generative AI can aid in product design by generating 3D models, prototypes, and concept images. This can help businesses reduce the cost and time associated with traditional product design methods.\n",
      "5. **Chatbots**: Generative AI can be used to create chatbots that engage customers, answer FAQs, and provide personalized support.\n",
      "6. **Customer Avatars**: Generative AI can create realistic customer avatars that can interact with users through various interfaces such as websites, apps, and voice assistants.\n",
      "7. **Recommendation Systems**: Generative AI can analyze user behavior and generate personalized product recommendations for e-commerce businesses.\n",
      "8. **Financial Analysis**: Generative AI can generate financial reports, forecasts, and predictive models, helping businesses make informed investment decisions.\n",
      "9. **Human Resource Management**: Generative AI can help automate HR processes such as talent suggestion, performance evaluation, and recruitment.\n",
      "10. **Supply Chain Optimization**: Generative AI can analyze data from various sources to optimize supply chain operations, predicting demand, managing inventory levels, and reducing supply chain risks.\n",
      "\n",
      "**Industry-specific applications:**\n",
      "\n",
      "1. **Healthcare**: Generative AI can help with patient matching, medical diagnosis, personalized medicine, and medical imaging analysis.\n",
      "2. **Finance**: Generative AI can aid in credit risk assessment, portfolio optimization, and automated compliance with regulations.\n",
      "3. **Education**: Generative AI can create personalized learning paths, adaptive assessments, and tutoring systems.\n",
      "4. **Transportation**: Generative AI can help design autonomous vehicles, optimize routes, and predict traffic patterns.\n",
      "5. **Energy**: Generative AI can aid in predicting energy demand, optimizing supply chains for renewable energy sources.\n",
      "\n",
      "These examples illustrate the versatility of generative AI and its potential to transform businesses across various industries.\n"
     ]
    }
   ],
   "source": [
    "# There's actually an alternative approach that some people might prefer\n",
    "# You can use the OpenAI client python library to call Ollama:\n",
    "\n",
    "from openai import OpenAI\n",
    "ollama_via_openai = OpenAI(base_url='http://localhost:11434/v1', api_key='ollama')\n",
    "\n",
    "response = ollama_via_openai.chat.completions.create(\n",
    "    model=MODEL,\n",
    "    messages=messages\n",
    ")\n",
    "\n",
    "result3 = response.choices[0].message.content\n",
    "print(\"Output via OpenAI client: \", result3)"
   ]
  },
  {
   "cell_type": "code",
   "execution_count": 12,
   "id": "9194de39",
   "metadata": {},
   "outputs": [
    {
     "data": {
      "text/markdown": [
       "Generative AI has numerous business applications across various industries. Here are some examples:\n",
       "\n",
       "1. **Content Generation**: Generative AI can be used to generate high-quality content such as articles, social media posts, product descriptions, and more. This can help automate content creation and reduce the workload for human writers.\n",
       "2. **Visual Design**: Generative AI can create visually stunning designs for logos, branding, graphics, and more. This can help businesses enhance their visual identity without requiring extensive design expertise.\n",
       "3. **Marketing Materials**: Generative AI can generate marketing materials such as product brochures, sales pitches, and advertising campaigns. This can help businesses save time and effort in creating high-quality marketing content.\n",
       "4. **Product Design**: Generative AI can aid in product design by generating 3D models, prototypes, and concept images. This can help businesses reduce the cost and time associated with traditional product design methods.\n",
       "5. **Chatbots**: Generative AI can be used to create chatbots that engage customers, answer FAQs, and provide personalized support.\n",
       "6. **Customer Avatars**: Generative AI can create realistic customer avatars that can interact with users through various interfaces such as websites, apps, and voice assistants.\n",
       "7. **Recommendation Systems**: Generative AI can analyze user behavior and generate personalized product recommendations for e-commerce businesses.\n",
       "8. **Financial Analysis**: Generative AI can generate financial reports, forecasts, and predictive models, helping businesses make informed investment decisions.\n",
       "9. **Human Resource Management**: Generative AI can help automate HR processes such as talent suggestion, performance evaluation, and recruitment.\n",
       "10. **Supply Chain Optimization**: Generative AI can analyze data from various sources to optimize supply chain operations, predicting demand, managing inventory levels, and reducing supply chain risks.\n",
       "\n",
       "**Industry-specific applications:**\n",
       "\n",
       "1. **Healthcare**: Generative AI can help with patient matching, medical diagnosis, personalized medicine, and medical imaging analysis.\n",
       "2. **Finance**: Generative AI can aid in credit risk assessment, portfolio optimization, and automated compliance with regulations.\n",
       "3. **Education**: Generative AI can create personalized learning paths, adaptive assessments, and tutoring systems.\n",
       "4. **Transportation**: Generative AI can help design autonomous vehicles, optimize routes, and predict traffic patterns.\n",
       "5. **Energy**: Generative AI can aid in predicting energy demand, optimizing supply chains for renewable energy sources.\n",
       "\n",
       "These examples illustrate the versatility of generative AI and its potential to transform businesses across various industries."
      ],
      "text/plain": [
       "<IPython.core.display.Markdown object>"
      ]
     },
     "metadata": {},
     "output_type": "display_data"
    }
   ],
   "source": [
    "display(Markdown(result3))"
   ]
  }
 ],
 "metadata": {
  "kernelspec": {
   "display_name": "llm_env",
   "language": "python",
   "name": "python3"
  },
  "language_info": {
   "codemirror_mode": {
    "name": "ipython",
    "version": 3
   },
   "file_extension": ".py",
   "mimetype": "text/x-python",
   "name": "python",
   "nbconvert_exporter": "python",
   "pygments_lexer": "ipython3",
   "version": "3.12.2"
  }
 },
 "nbformat": 4,
 "nbformat_minor": 5
}
