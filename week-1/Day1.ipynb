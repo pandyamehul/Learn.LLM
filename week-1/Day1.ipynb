{
 "cells": [
  {
   "cell_type": "markdown",
   "id": "b62778f3",
   "metadata": {},
   "source": [
    "# Use Case: Using OpenAI API Summerize the web page content"
   ]
  },
  {
   "cell_type": "markdown",
   "id": "aed3530b",
   "metadata": {},
   "source": [
    "### Import required libraries"
   ]
  },
  {
   "cell_type": "code",
   "execution_count": 1,
   "id": "66e67a87",
   "metadata": {},
   "outputs": [],
   "source": [
    "# imports required libraries\n",
    "\n",
    "import os\n",
    "import requests\n",
    "from dotenv import load_dotenv\n",
    "from bs4 import BeautifulSoup\n",
    "from IPython.display import Markdown, display\n",
    "from openai import OpenAI"
   ]
  },
  {
   "cell_type": "code",
   "execution_count": 2,
   "id": "213745c7",
   "metadata": {},
   "outputs": [
    {
     "name": "stdout",
     "output_type": "stream",
     "text": [
      "API key found and looks good so far!\n"
     ]
    }
   ],
   "source": [
    "# Load environment variables in a file called .env\n",
    "\n",
    "load_dotenv(override=True)\n",
    "api_key = os.getenv('OPENAI_API_KEY')\n",
    "\n",
    "# Check the key\n",
    "\n",
    "if not api_key:\n",
    "    print(\"No API key was found - please head over to the troubleshooting notebook in this folder to identify & fix!\")\n",
    "elif not api_key.startswith(\"sk-proj-\"):\n",
    "    print(\"An API key was found, but it doesn't start sk-proj-; please check you're using the right key - see troubleshooting notebook\")\n",
    "elif api_key.strip() != api_key:\n",
    "    print(\"An API key was found, but it looks like it might have space or tab characters at the start or end - please remove them - see troubleshooting notebook\")\n",
    "else:\n",
    "    print(\"API key found and looks good so far!\")"
   ]
  },
  {
   "cell_type": "code",
   "execution_count": 3,
   "id": "f997a8ea",
   "metadata": {},
   "outputs": [],
   "source": [
    "openai = OpenAI()"
   ]
  },
  {
   "cell_type": "code",
   "execution_count": 4,
   "id": "8de0d8c9",
   "metadata": {},
   "outputs": [
    {
     "name": "stdout",
     "output_type": "stream",
     "text": [
      "Hello! Welcome! I'm glad to hear from you. How can I assist you today?\n"
     ]
    }
   ],
   "source": [
    "# To give you a preview -- calling OpenAI with these messages is this easy. Any problems, head over to the Troubleshooting notebook.\n",
    "\n",
    "message = \"Hello, GPT! This is my first ever message to you! Hi!\"\n",
    "response = openai.chat.completions.create(model=\"gpt-4o-mini\", messages=[{\"role\":\"user\", \"content\":message}])\n",
    "print(response.choices[0].message.content)"
   ]
  },
  {
   "cell_type": "code",
   "execution_count": 4,
   "id": "cc1d30a9",
   "metadata": {},
   "outputs": [],
   "source": [
    "# A class to represent a Webpage\n",
    "\n",
    "# Some websites need you to use proper headers when fetching them:\n",
    "headers = {\n",
    " \"User-Agent\": \"Mozilla/5.0 (Windows NT 10.0; Win64; x64) AppleWebKit/537.36 (KHTML, like Gecko) Chrome/117.0.0.0 Safari/537.36\"\n",
    "}\n",
    "\n",
    "class Website:\n",
    "\n",
    "    def __init__(self, url):\n",
    "        \"\"\"\n",
    "        Create this Website object from the given url using the BeautifulSoup library\n",
    "        \"\"\"\n",
    "        self.url = url\n",
    "        response = requests.get(url, headers=headers)\n",
    "        soup = BeautifulSoup(response.content, 'html.parser')\n",
    "        self.title = soup.title.string if soup.title else \"No title found\"\n",
    "        for irrelevant in soup.body([\"script\", \"style\", \"img\", \"input\"]):\n",
    "            irrelevant.decompose()\n",
    "        self.text = soup.body.get_text(separator=\"\\n\", strip=True)"
   ]
  },
  {
   "cell_type": "code",
   "execution_count": 6,
   "id": "204f0e24",
   "metadata": {},
   "outputs": [
    {
     "name": "stdout",
     "output_type": "stream",
     "text": [
      "My 13 Sources of Income as a Software Engineer | by Mark Henry | Aug, 2025 | Stackademic\n",
      "Sitemap\n",
      "Open in app\n",
      "Sign up\n",
      "Sign in\n",
      "Medium Logo\n",
      "Write\n",
      "Sign up\n",
      "Sign in\n",
      "Stackademic\n",
      "·\n",
      "Follow publication\n",
      "Stackademic is a learning hub for programmers, devs, coders, and engineers. Our goal is to democratize free coding education for the world.\n",
      "Follow publication\n",
      "Member-only story\n",
      "My 13 Sources of Income as a Software Engineer\n",
      "Because One Paycheck Is Too Fragile to Rely On\n",
      "Mark Henry\n",
      "4 min read\n",
      "·\n",
      "5 days ago\n",
      "--\n",
      "12\n",
      "Share\n",
      "Let’s be honest:\n",
      "no one becomes a software engineer just to stare at Jira tickets and debug some poor soul’s spaghetti code for 40 years.\n",
      "We wanted the\n",
      "freedom\n",
      ", the flexibility, and —\n",
      "let’s not lie — the money.\n",
      "But here’s the kicker:\n",
      "your cushy FAANG salary or decent mid-level paycheck isn’t bulletproof.\n",
      "Layoffs happen. Tech bubbles burst. Your “rock-solid” job might evaporate faster than a free AWS credit.\n",
      "I’ve been burned before.\n",
      "One minute I was a “highly valued contributor,” the next, I was packing up my mechanical keyboard like it was a crime scene.\n",
      "That was my wake-up call:\n",
      "depending on one paycheck is financial Russian roulette. So I built 13 different income streams.\n",
      "Some are huge. Some are pocket change. But together, they’re the reason I don’t panic when recruiters ghost me.\n",
      "Here’s the breakdown.\n",
      "You can read the full story for free by clicking here\n",
      "Press enter or click to view image in full size\n",
      "Image edit:- Mark\n",
      "1. The Obvious: Full-Time Job\n",
      "--\n",
      "--\n",
      "12\n",
      "Follow\n",
      "Published in\n",
      "Stackademic\n",
      "49K followers\n",
      "·\n",
      "Last published\n",
      "18 hours ago\n",
      "Stackademic is a learning hub for programmers, devs, coders, and engineers. Our goal is to democratize free coding education for the world.\n",
      "Follow\n",
      "Written by\n",
      "Mark Henry\n",
      "1.7K followers\n",
      "·\n",
      "21 following\n",
      "Software Engineer | Tech Enthusiast\n",
      "Responses (\n",
      "12\n",
      ")\n",
      "See all responses\n",
      "Help\n",
      "Status\n",
      "About\n",
      "Careers\n",
      "Press\n",
      "Blog\n",
      "Privacy\n",
      "Rules\n",
      "Terms\n",
      "Text to speech\n"
     ]
    }
   ],
   "source": [
    "client = Website(\"https://blog.stackademic.com/my-13-sources-of-income-as-a-software-engineer-1ffb7c69e4c8\")\n",
    "print(client.title)\n",
    "print(client.text)"
   ]
  },
  {
   "cell_type": "markdown",
   "id": "c13d6c57",
   "metadata": {},
   "source": [
    "### Define Prompts for OpenAI API"
   ]
  },
  {
   "cell_type": "code",
   "execution_count": 7,
   "id": "2fde2070",
   "metadata": {},
   "outputs": [],
   "source": [
    "# Define our system prompt - you can experiment with this later, changing the last sentence to 'Respond in markdown in Spanish.\"\n",
    "\n",
    "system_prompt = \"You are an assistant that analyzes the contents of a website \\\n",
    "and provides a short summary, ignoring text that might be navigation related. \\\n",
    "Respond in markdown.\""
   ]
  },
  {
   "cell_type": "code",
   "execution_count": 8,
   "id": "c1ad1f82",
   "metadata": {},
   "outputs": [],
   "source": [
    "# A function that writes a User Prompt that asks for summaries of websites:\n",
    "def user_prompt_for(website):\n",
    "    user_prompt = f\"You are looking at a website titled {website.title}\"\n",
    "    user_prompt += \"\\nThe contents of this website is as follows; \\\n",
    "please provide a short summary of this website in markdown. \\\n",
    "If it includes news or announcements, then summarize these too.\\n\\n\"\n",
    "    user_prompt += website.text\n",
    "    return user_prompt"
   ]
  },
  {
   "cell_type": "code",
   "execution_count": 9,
   "id": "7ee765c5",
   "metadata": {},
   "outputs": [
    {
     "name": "stdout",
     "output_type": "stream",
     "text": [
      "You are looking at a website titled My 13 Sources of Income as a Software Engineer | by Mark Henry | Aug, 2025 | Stackademic\n",
      "The contents of this website is as follows; please provide a short summary of this website in markdown. If it includes news or announcements, then summarize these too.\n",
      "\n",
      "Sitemap\n",
      "Open in app\n",
      "Sign up\n",
      "Sign in\n",
      "Medium Logo\n",
      "Write\n",
      "Sign up\n",
      "Sign in\n",
      "Stackademic\n",
      "·\n",
      "Follow publication\n",
      "Stackademic is a learning hub for programmers, devs, coders, and engineers. Our goal is to democratize free coding education for the world.\n",
      "Follow publication\n",
      "Member-only story\n",
      "My 13 Sources of Income as a Software Engineer\n",
      "Because One Paycheck Is Too Fragile to Rely On\n",
      "Mark Henry\n",
      "4 min read\n",
      "·\n",
      "5 days ago\n",
      "--\n",
      "12\n",
      "Share\n",
      "Let’s be honest:\n",
      "no one becomes a software engineer just to stare at Jira tickets and debug some poor soul’s spaghetti code for 40 years.\n",
      "We wanted the\n",
      "freedom\n",
      ", the flexibility, and —\n",
      "let’s not lie — the money.\n",
      "But here’s the kicker:\n",
      "your cushy FAANG salary or decent mid-level paycheck isn’t bulletproof.\n",
      "Layoffs happen. Tech bubbles burst. Your “rock-solid” job might evaporate faster than a free AWS credit.\n",
      "I’ve been burned before.\n",
      "One minute I was a “highly valued contributor,” the next, I was packing up my mechanical keyboard like it was a crime scene.\n",
      "That was my wake-up call:\n",
      "depending on one paycheck is financial Russian roulette. So I built 13 different income streams.\n",
      "Some are huge. Some are pocket change. But together, they’re the reason I don’t panic when recruiters ghost me.\n",
      "Here’s the breakdown.\n",
      "You can read the full story for free by clicking here\n",
      "Press enter or click to view image in full size\n",
      "Image edit:- Mark\n",
      "1. The Obvious: Full-Time Job\n",
      "--\n",
      "--\n",
      "12\n",
      "Follow\n",
      "Published in\n",
      "Stackademic\n",
      "49K followers\n",
      "·\n",
      "Last published\n",
      "18 hours ago\n",
      "Stackademic is a learning hub for programmers, devs, coders, and engineers. Our goal is to democratize free coding education for the world.\n",
      "Follow\n",
      "Written by\n",
      "Mark Henry\n",
      "1.7K followers\n",
      "·\n",
      "21 following\n",
      "Software Engineer | Tech Enthusiast\n",
      "Responses (\n",
      "12\n",
      ")\n",
      "See all responses\n",
      "Help\n",
      "Status\n",
      "About\n",
      "Careers\n",
      "Press\n",
      "Blog\n",
      "Privacy\n",
      "Rules\n",
      "Terms\n",
      "Text to speech\n"
     ]
    }
   ],
   "source": [
    "print(user_prompt_for(client))"
   ]
  },
  {
   "cell_type": "markdown",
   "id": "f8d4b1d9",
   "metadata": {},
   "source": [
    "### Prepare message for OpenAI API"
   ]
  },
  {
   "cell_type": "code",
   "execution_count": 10,
   "id": "7ae1d9a3",
   "metadata": {},
   "outputs": [],
   "source": [
    "# See how this function creates exactly the format above\n",
    "\n",
    "def messages_for(website):\n",
    "    return [\n",
    "        {\"role\": \"system\", \"content\": system_prompt},\n",
    "        {\"role\": \"user\", \"content\": user_prompt_for(website)}\n",
    "    ]"
   ]
  },
  {
   "cell_type": "code",
   "execution_count": 11,
   "id": "564069ea",
   "metadata": {},
   "outputs": [
    {
     "data": {
      "text/plain": [
       "[{'role': 'system',\n",
       "  'content': 'You are an assistant that analyzes the contents of a website and provides a short summary, ignoring text that might be navigation related. Respond in markdown.'},\n",
       " {'role': 'user',\n",
       "  'content': 'You are looking at a website titled My 13 Sources of Income as a Software Engineer | by Mark Henry | Aug, 2025 | Stackademic\\nThe contents of this website is as follows; please provide a short summary of this website in markdown. If it includes news or announcements, then summarize these too.\\n\\nSitemap\\nOpen in app\\nSign up\\nSign in\\nMedium Logo\\nWrite\\nSign up\\nSign in\\nStackademic\\n·\\nFollow publication\\nStackademic is a learning hub for programmers, devs, coders, and engineers. Our goal is to democratize free coding education for the world.\\nFollow publication\\nMember-only story\\nMy 13 Sources of Income as a Software Engineer\\nBecause One Paycheck Is Too Fragile to Rely On\\nMark Henry\\n4 min read\\n·\\n5 days ago\\n--\\n12\\nShare\\nLet’s be honest:\\nno one becomes a software engineer just to stare at Jira tickets and debug some poor soul’s spaghetti code for 40 years.\\nWe wanted the\\nfreedom\\n, the flexibility, and —\\nlet’s not lie — the money.\\nBut here’s the kicker:\\nyour cushy FAANG salary or decent mid-level paycheck isn’t bulletproof.\\nLayoffs happen. Tech bubbles burst. Your “rock-solid” job might evaporate faster than a free AWS credit.\\nI’ve been burned before.\\nOne minute I was a “highly valued contributor,” the next, I was packing up my mechanical keyboard like it was a crime scene.\\nThat was my wake-up call:\\ndepending on one paycheck is financial Russian roulette. So I built 13 different income streams.\\nSome are huge. Some are pocket change. But together, they’re the reason I don’t panic when recruiters ghost me.\\nHere’s the breakdown.\\nYou can read the full story for free by clicking here\\nPress enter or click to view image in full size\\nImage edit:- Mark\\n1. The Obvious: Full-Time Job\\n--\\n--\\n12\\nFollow\\nPublished in\\nStackademic\\n49K followers\\n·\\nLast published\\n18 hours ago\\nStackademic is a learning hub for programmers, devs, coders, and engineers. Our goal is to democratize free coding education for the world.\\nFollow\\nWritten by\\nMark Henry\\n1.7K followers\\n·\\n21 following\\nSoftware Engineer | Tech Enthusiast\\nResponses (\\n12\\n)\\nSee all responses\\nHelp\\nStatus\\nAbout\\nCareers\\nPress\\nBlog\\nPrivacy\\nRules\\nTerms\\nText to speech'}]"
      ]
     },
     "execution_count": 11,
     "metadata": {},
     "output_type": "execute_result"
    }
   ],
   "source": [
    "messages_for(client)"
   ]
  },
  {
   "cell_type": "markdown",
   "id": "eb1a8bc4",
   "metadata": {},
   "source": [
    "### Call OpenAI API to get the summary"
   ]
  },
  {
   "cell_type": "code",
   "execution_count": 12,
   "id": "2ff96a53",
   "metadata": {},
   "outputs": [],
   "source": [
    "# And now: call the OpenAI API. You will get very familiar with this!\n",
    "\n",
    "def summarize(url):\n",
    "    website = Website(url)\n",
    "    response = openai.chat.completions.create(\n",
    "        model = \"gpt-4o-mini\",\n",
    "        messages = messages_for(website)\n",
    "    )\n",
    "    return response.choices[0].message.content"
   ]
  },
  {
   "cell_type": "code",
   "execution_count": 13,
   "id": "9f88ef26",
   "metadata": {},
   "outputs": [
    {
     "data": {
      "text/plain": [
       "\"# Vejr og Klima Lige Nu - TV 2\\n\\n**Kort Oversigt:**\\nTV 2's vejrsektion leverer opdateringer omkring aktuelle vejr- og klimaforhold i Danmark samt internationalt. Den dækker hændelser som kraftige byger, tordenvejr og hagl samt daglige vejrprognoser.\\n\\n## Seneste Opdateringer:\\n- **Store Hagl:** Usædvanlige store hagl, målt til 2,5 cm, er faldet i Gåsetofte og Svenstrup ved Kalundborg. Dette er større end det typiske størrelse for hagl i Danmark.\\n- **Tordenbyger:** Der er observeret truende rulleskyer over Slagelse, hvilket indikerer kraftige vindstød og tordenbyger i området.\\n- **Generelt Vejr:** Lørdag forventes at starte med kraftige byger over Sjælland, som gradvist vil give plads til solskin senere på dagen. Vinden vil være let til jævn.\\n- **Risiko for Skybrud:** TV 2 varsler risiko for skybrud i Nordsjælland fra fredag aften til lørdag morgen, hvilket kan føre til oversvømmelser.\\n- **Vandtemperatur:** Vandtemperaturen omkring Danmark falder hurtigt, hvilket kan betyde, at 20. august bliver den sidste officielle badedag i år.\\n\\nTV 2 Vejret opfordrer brugerne til at dele deres egne vejrhistorier gennem billeduploads eller via e-mail.\""
      ]
     },
     "execution_count": 13,
     "metadata": {},
     "output_type": "execute_result"
    }
   ],
   "source": [
    "## To see summary from Open AI in raw text format\n",
    "summarize(\"https://vejr.tv2.dk/live/2024-12-02-vejr-og-klima\")"
   ]
  },
  {
   "cell_type": "code",
   "execution_count": 14,
   "id": "dda68b2f",
   "metadata": {},
   "outputs": [],
   "source": [
    "# A function to display this nicely in the Jupyter output, using markdown\n",
    "\n",
    "def display_summary(url):\n",
    "    summary = summarize(url)\n",
    "    display(Markdown(summary))"
   ]
  },
  {
   "cell_type": "code",
   "execution_count": 15,
   "id": "f2174474",
   "metadata": {},
   "outputs": [
    {
     "data": {
      "text/markdown": [
       "# Summary of \"My 13 Sources of Income as a Software Engineer\" by Mark Henry\n",
       "\n",
       "In this article, Mark Henry discusses the importance of diversifying income streams for software engineers, asserting that relying on a single paycheck can be precarious due to potential job loss in an unstable tech environment. He shares his personal experiences with layoffs, noting that having multiple income sources provides financial security and peace of mind.\n",
       "\n",
       "Henry outlines **13 different sources of income**, which vary in scale from significant amounts to smaller, supplementary incomes. The primary focus of the narrative is on the necessity and benefits of cultivating these diverse income streams, thereby avoiding the risks associated with dependence on a sole paycheck in the tech industry.\n",
       "\n",
       "### Key Points\n",
       "- **Full-Time Job**: Acknowledge the traditional income source.\n",
       "- **Importance of Diversification**: Emphasizes building multiple income streams to mitigate financial risk.\n",
       "- **Personal Experience**: Shares personal anecdotes about job insecurity and the impact of layoffs.\n",
       "\n",
       "This piece is part of a broader goal within Stackademic to provide free coding education and resources for software professionals."
      ],
      "text/plain": [
       "<IPython.core.display.Markdown object>"
      ]
     },
     "metadata": {},
     "output_type": "display_data"
    }
   ],
   "source": [
    "display_summary(\"https://blog.stackademic.com/my-13-sources-of-income-as-a-software-engineer-1ffb7c69e4c8\")"
   ]
  }
 ],
 "metadata": {
  "kernelspec": {
   "display_name": "llm_env",
   "language": "python",
   "name": "python3"
  },
  "language_info": {
   "codemirror_mode": {
    "name": "ipython",
    "version": 3
   },
   "file_extension": ".py",
   "mimetype": "text/x-python",
   "name": "python",
   "nbconvert_exporter": "python",
   "pygments_lexer": "ipython3",
   "version": "3.12.2"
  }
 },
 "nbformat": 4,
 "nbformat_minor": 5
}
