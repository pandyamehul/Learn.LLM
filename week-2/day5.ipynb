{
 "cells": [
  {
   "cell_type": "markdown",
   "id": "e05335bd",
   "metadata": {},
   "source": [
    "### Multi-modal (voice and image) chatbots - Airline AI Assistant"
   ]
  },
  {
   "cell_type": "code",
   "execution_count": null,
   "id": "bb67feef",
   "metadata": {},
   "outputs": [],
   "source": [
    "# Some imports for handling images\n",
    "\n",
    "import os\n",
    "from dotenv import load_dotenv\n",
    "import base64\n",
    "from io import BytesIO\n",
    "from PIL import Image\n",
    "from openai import OpenAI\n",
    "import gradio as gr"
   ]
  },
  {
   "cell_type": "code",
   "execution_count": null,
   "id": "ea904866",
   "metadata": {},
   "outputs": [],
   "source": [
    "# Initialization\n",
    "load_dotenv(override=True)\n",
    "openai_api_key = os.getenv('OPENAI_API_KEY')\n",
    "if openai_api_key:\n",
    "    print(f\"OpenAI API Key exists and begins {openai_api_key[:8]}\")\n",
    "else:\n",
    "    print(\"OpenAI API Key not set\")\n",
    "    \n",
    "MODEL = \"gpt-4o-mini\"\n",
    "openai = OpenAI()\n",
    "# As an alternative, if you'd like to use Ollama instead of OpenAI\n",
    "# MODEL = \"llama3.2\"\n",
    "# openai = OpenAI(base_url='http://localhost:11434/v1', api_key='ollama')"
   ]
  },
  {
   "cell_type": "code",
   "execution_count": null,
   "id": "13fd8a8f",
   "metadata": {},
   "outputs": [],
   "source": [
    "def artist(city):\n",
    "    image_response = openai.images.generate(\n",
    "            model=\"dall-e-3\",\n",
    "            prompt=f\"An image representing a vacation in {city}, showing tourist spots and everything unique about {city}, in a vibrant pop-art style\",\n",
    "            size=\"1024x1024\",\n",
    "            n=1,\n",
    "            response_format=\"b64_json\",\n",
    "        )\n",
    "    image_base64 = image_response.data[0].b64_json\n",
    "    image_data = base64.b64decode(image_base64)\n",
    "    return Image.open(BytesIO(image_data))"
   ]
  },
  {
   "cell_type": "code",
   "execution_count": null,
   "id": "d8331721",
   "metadata": {},
   "outputs": [],
   "source": [
    "image = artist(\"Copenhagen\")\n",
    "display(image)"
   ]
  },
  {
   "cell_type": "markdown",
   "id": "21f1124b",
   "metadata": {},
   "source": [
    "### Audio (NOTE - Audio is optional for this course - feel free to skip Audio if it causes trouble!)\n",
    "\n",
    "- Function talker that uses OpenAI's speech model to generate Audio"
   ]
  },
  {
   "cell_type": "code",
   "execution_count": null,
   "id": "193aa844",
   "metadata": {},
   "outputs": [
    {
     "data": {
      "text/html": [
       "\n",
       "                <audio  controls=\"controls\" autoplay=\"autoplay\">\n",
       "                    <source src=\"data:audio/mpeg;base64,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\" type=\"audio/mpeg\" />\n",
       "                    Your browser does not support the audio element.\n",
       "                </audio>\n",
       "              "
      ],
      "text/plain": [
       "<IPython.lib.display.Audio object>"
      ]
     },
     "metadata": {},
     "output_type": "display_data"
    }
   ],
   "source": [
    "import base64\n",
    "from io import BytesIO\n",
    "from PIL import Image\n",
    "from IPython.display import Audio, display\n",
    "\n",
    "def talker(message):\n",
    "    response = openai.audio.speech.create(\n",
    "        model=\"tts-1\",\n",
    "        voice=\"onyx\",\n",
    "        input=message)\n",
    "\n",
    "    audio_stream = BytesIO(response.content)\n",
    "    output_filename = \"output_audio.mp3\"\n",
    "    with open(output_filename, \"wb\") as f:\n",
    "        f.write(audio_stream.read())\n",
    "\n",
    "    # Play the generated audio\n",
    "    display(Audio(output_filename, autoplay=True))"
   ]
  },
  {
   "cell_type": "code",
   "execution_count": null,
   "id": "2f20ae48",
   "metadata": {},
   "outputs": [],
   "source": [
    "talker(\"Well, hi there, how are you today and what can I do for you?\")"
   ]
  },
  {
   "cell_type": "markdown",
   "id": "0675b9f4",
   "metadata": {},
   "source": [
    "### Multi-modal (voice and image) chatbots - Airline Travel AI Assistant\n",
    "\n",
    "The term '**Agentic AI**' and **Agentization** is an umbrella term that refers to a number of techniques, such as:\n",
    "\n",
    "1. Breaking a complex problem into smaller steps, with multiple LLMs carrying out specialized tasks\n",
    "2. The ability for LLMs to use Tools to give them additional capabilities\n",
    "3. The 'Agent Environment' which allows Agents to collaborate\n",
    "4. An LLM can act as the Planner, dividing bigger tasks into smaller ones for the specialists\n",
    "5. The concept of an Agent having autonomy / agency, beyond just respond"
   ]
  },
  {
   "cell_type": "code",
   "execution_count": null,
   "id": "9acc5000",
   "metadata": {},
   "outputs": [],
   "source": [
    "system_message = \"You are a helpful assistant for an Airline called Flight-AI. \"\n",
    "system_message += \"Give short, courteous answers, no more than 1 sentence. \"\n",
    "system_message += \"Always be accurate. If you don't know the answer, say so.\""
   ]
  },
  {
   "cell_type": "code",
   "execution_count": null,
   "id": "d8e51661",
   "metadata": {},
   "outputs": [],
   "source": [
    "# Let's start by making a useful function\n",
    "ticket_prices = {\n",
    "    \"london\": \"$799\", \n",
    "    \"paris\": \"$899\", \n",
    "    \"tokyo\": \"$1400\", \n",
    "    \"berlin\": \"$499\"\n",
    "}\n",
    "\n",
    "def get_ticket_price(destination_city):\n",
    "    print(f\"Tool get_ticket_price called for {destination_city}\")\n",
    "    city = destination_city.lower()\n",
    "    return ticket_prices.get(city, \"Unknown\")"
   ]
  },
  {
   "cell_type": "code",
   "execution_count": null,
   "id": "a7157649",
   "metadata": {},
   "outputs": [],
   "source": [
    "# There's a particular dictionary structure that's required to describe our function:\n",
    "price_function = {\n",
    "    \"name\": \"get_ticket_price\",\n",
    "    \"description\": \"Get the price of a return ticket to the destination city. Call this whenever you need to know the ticket price, for example when a customer asks 'How much is a ticket to this city'\",\n",
    "    \"parameters\": {\n",
    "        \"type\": \"object\",\n",
    "        \"properties\": {\n",
    "            \"destination_city\": {\n",
    "                \"type\": \"string\",\n",
    "                \"description\": \"The city that the customer wants to travel to\",\n",
    "            },\n",
    "        },\n",
    "        \"required\": [\"destination_city\"],\n",
    "        \"additionalProperties\": False\n",
    "    }\n",
    "}"
   ]
  },
  {
   "cell_type": "code",
   "execution_count": null,
   "id": "8d4cfdee",
   "metadata": {},
   "outputs": [],
   "source": [
    "# And this is included in a list of tools:\n",
    "tools = [{\"type\": \"function\", \"function\": price_function}]"
   ]
  },
  {
   "cell_type": "code",
   "execution_count": null,
   "id": "fef77b50",
   "metadata": {},
   "outputs": [],
   "source": [
    "def chat(history):\n",
    "    messages = [{\"role\": \"system\", \"content\": system_message}] + history\n",
    "    response = openai.chat.completions.create(model=MODEL, messages=messages, tools=tools)\n",
    "    image = None\n",
    "    \n",
    "    if response.choices[0].finish_reason==\"tool_calls\":\n",
    "        message = response.choices[0].message\n",
    "        response, city = handle_tool_call(message)\n",
    "        messages.append(message)\n",
    "        messages.append(response)\n",
    "        image = artist(city)\n",
    "        response = openai.chat.completions.create(model=MODEL, messages=messages)\n",
    "        \n",
    "    reply = response.choices[0].message.content\n",
    "    history += [{\"role\":\"assistant\", \"content\":reply}]\n",
    "\n",
    "    # Comment out or delete the next line if you'd rather skip Audio for now..\n",
    "    talker(reply)\n",
    "    \n",
    "    return history, image"
   ]
  },
  {
   "cell_type": "code",
   "execution_count": null,
   "id": "d624d7ea",
   "metadata": {},
   "outputs": [],
   "source": [
    "# More involved Gradio code as we're not using the preset Chat interface!\n",
    "# Passing in inbrowser=True in the last line will cause a Gradio window to pop up immediately.\n",
    "\n",
    "with gr.Blocks() as ui:\n",
    "    with gr.Row():\n",
    "        chatbot = gr.Chatbot(height=500, type=\"messages\")\n",
    "        image_output = gr.Image(height=500)\n",
    "    with gr.Row():\n",
    "        entry = gr.Textbox(label=\"Chat with our AI Assistant:\")\n",
    "    with gr.Row():\n",
    "        clear = gr.Button(\"Clear\")\n",
    "\n",
    "    def do_entry(message, history):\n",
    "        history += [{\"role\":\"user\", \"content\":message}]\n",
    "        return \"\", history\n",
    "\n",
    "    entry.submit(do_entry, inputs=[entry, chatbot], outputs=[entry, chatbot]).then(\n",
    "        chat, inputs=chatbot, outputs=[chatbot, image_output]\n",
    "    )\n",
    "    clear.click(lambda: None, inputs=None, outputs=chatbot, queue=False)\n",
    "\n",
    "ui.launch(inbrowser=True)"
   ]
  }
 ],
 "metadata": {
  "kernelspec": {
   "display_name": "llm_env",
   "language": "python",
   "name": "python3"
  },
  "language_info": {
   "codemirror_mode": {
    "name": "ipython",
    "version": 3
   },
   "file_extension": ".py",
   "mimetype": "text/x-python",
   "name": "python",
   "nbconvert_exporter": "python",
   "pygments_lexer": "ipython3",
   "version": "3.12.2"
  }
 },
 "nbformat": 4,
 "nbformat_minor": 5
}
